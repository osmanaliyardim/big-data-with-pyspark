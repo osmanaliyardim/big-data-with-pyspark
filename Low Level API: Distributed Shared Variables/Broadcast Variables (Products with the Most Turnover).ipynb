{
 "cells": [
  {
   "cell_type": "code",
   "execution_count": 1,
   "metadata": {},
   "outputs": [],
   "source": [
    "import findspark\n",
    "findspark.init()"
   ]
  },
  {
   "cell_type": "code",
   "execution_count": 2,
   "metadata": {},
   "outputs": [],
   "source": [
    "from pyspark import SparkConf, SparkContext"
   ]
  },
  {
   "cell_type": "code",
   "execution_count": 3,
   "metadata": {},
   "outputs": [],
   "source": [
    "conf = SparkConf().setMaster('local[4]').setAppName('BroadcastVariablesOps')"
   ]
  },
  {
   "cell_type": "code",
   "execution_count": 4,
   "metadata": {},
   "outputs": [],
   "source": [
    "sc = SparkContext(conf=conf).getOrCreate()"
   ]
  },
  {
   "cell_type": "code",
   "execution_count": 5,
   "metadata": {},
   "outputs": [],
   "source": [
    "def read_products():\n",
    "    products_text_wrapper = open('products.csv', 'r')\n",
    "    \n",
    "    products = products_text_wrapper.readlines()\n",
    "    \n",
    "    product_id_name = {}\n",
    "    \n",
    "    for line in products:\n",
    "        if 'productCategoryId' not in line:\n",
    "            product_id = int(line.split(',')[0])\n",
    "            product_name = line.split(',')[2]\n",
    "            product_id_name.update({product_id:product_name})\n",
    "    \n",
    "    return product_id_name"
   ]
  },
  {
   "cell_type": "code",
   "execution_count": 6,
   "metadata": {},
   "outputs": [],
   "source": [
    "products = read_products()"
   ]
  },
  {
   "cell_type": "code",
   "execution_count": 7,
   "metadata": {},
   "outputs": [],
   "source": [
    "broadcast_products = sc.broadcast(products)"
   ]
  },
  {
   "cell_type": "code",
   "execution_count": 8,
   "metadata": {},
   "outputs": [
    {
     "data": {
      "text/plain": [
       "\"Nike Men's Fly Shorts 2.0\""
      ]
     },
     "execution_count": 8,
     "metadata": {},
     "output_type": "execute_result"
    }
   ],
   "source": [
    "broadcast_products.value.get(114)"
   ]
  },
  {
   "cell_type": "markdown",
   "metadata": {},
   "source": [
    "# Read orders and create an RDD"
   ]
  },
  {
   "cell_type": "code",
   "execution_count": 9,
   "metadata": {},
   "outputs": [],
   "source": [
    "order_items_rdd = sc.textFile('order_items.csv') \\\n",
    ".filter(lambda x: 'orderItemOrderId' not in x)"
   ]
  },
  {
   "cell_type": "code",
   "execution_count": 10,
   "metadata": {},
   "outputs": [
    {
     "data": {
      "text/plain": [
       "['1,1,957,1,299.98,299.98',\n",
       " '2,2,1073,1,199.99,199.99',\n",
       " '3,2,502,5,250.0,50.0',\n",
       " '4,2,403,1,129.99,129.99',\n",
       " '5,4,897,2,49.98,24.99']"
      ]
     },
     "execution_count": 10,
     "metadata": {},
     "output_type": "execute_result"
    }
   ],
   "source": [
    "order_items_rdd.take(5)"
   ]
  },
  {
   "cell_type": "markdown",
   "metadata": {},
   "source": [
    "# Make Pair RDD"
   ]
  },
  {
   "cell_type": "code",
   "execution_count": 16,
   "metadata": {},
   "outputs": [],
   "source": [
    "def make_order_items_pair_rdd(line):\n",
    "    order_item_product_id = int(line.split(',')[2])\n",
    "    order_item_sub_total = float(line.split(',')[4])\n",
    "    \n",
    "    return (order_item_product_id, order_item_sub_total)"
   ]
  },
  {
   "cell_type": "code",
   "execution_count": 17,
   "metadata": {},
   "outputs": [],
   "source": [
    "order_items_pair_rdd = order_items_rdd.map(make_order_items_pair_rdd)"
   ]
  },
  {
   "cell_type": "code",
   "execution_count": 18,
   "metadata": {},
   "outputs": [
    {
     "data": {
      "text/plain": [
       "[(957, 299.98), (1073, 199.99), (502, 250.0), (403, 129.99), (897, 49.98)]"
      ]
     },
     "execution_count": 18,
     "metadata": {},
     "output_type": "execute_result"
    }
   ],
   "source": [
    "order_items_pair_rdd.take(5)"
   ]
  },
  {
   "cell_type": "markdown",
   "metadata": {},
   "source": [
    "# Query to find products with the most turnover"
   ]
  },
  {
   "cell_type": "code",
   "execution_count": 23,
   "metadata": {},
   "outputs": [],
   "source": [
    "sorted_orders = order_items_pair_rdd.reduceByKey(lambda x,y: (x+y)) \\\n",
    ".map(lambda x: (x[1], x[0])) \\\n",
    ".sortByKey(False) \\\n",
    ".map(lambda x: (x[1], x[0])) \\"
   ]
  },
  {
   "cell_type": "markdown",
   "metadata": {},
   "source": [
    "# Join orders and products which are broadcast variable"
   ]
  },
  {
   "cell_type": "code",
   "execution_count": 24,
   "metadata": {},
   "outputs": [],
   "source": [
    "sorted_orders_with_product_name = sorted_orders \\\n",
    ".map(lambda x: (broadcast_products.value.get(x[0]), x[1]))"
   ]
  },
  {
   "cell_type": "code",
   "execution_count": 25,
   "metadata": {},
   "outputs": [
    {
     "data": {
      "text/plain": [
       "[('Field & Stream Sportsman 16 Gun Fire Safe', 6929653.499999708),\n",
       " ('Perfect Fitness Perfect Rip Deck', 4421143.019999639),\n",
       " (\"Diamondback Women's Serene Classic Comfort Bi\", 4118425.419999785),\n",
       " (\"Nike Men's Free 5.0+ Running Shoe\", 3667633.1999997487),\n",
       " (\"Nike Men's Dri-FIT Victory Golf Polo\", 3147800.0),\n",
       " ('Pelican Sunstream 100 Kayak', 3099844.999999871),\n",
       " (\"Nike Men's CJ Elite 2 TD Football Cleat\", 2891757.5399998166),\n",
       " (\"O'Brien Men's Neoprene Life Vest\", 2888993.939999649),\n",
       " (\"Under Armour Girls' Toddler Spine Surge Runni\", 1269082.649999932),\n",
       " ('adidas Youth Germany Black/Red Away Match Soc', 67830.0)]"
      ]
     },
     "execution_count": 25,
     "metadata": {},
     "output_type": "execute_result"
    }
   ],
   "source": [
    "sorted_orders_with_product_name.take(10)"
   ]
  }
 ],
 "metadata": {
  "kernelspec": {
   "display_name": "Python 3",
   "language": "python",
   "name": "python3"
  },
  "language_info": {
   "codemirror_mode": {
    "name": "ipython",
    "version": 3
   },
   "file_extension": ".py",
   "mimetype": "text/x-python",
   "name": "python",
   "nbconvert_exporter": "python",
   "pygments_lexer": "ipython3",
   "version": "3.6.8"
  }
 },
 "nbformat": 4,
 "nbformat_minor": 2
}
