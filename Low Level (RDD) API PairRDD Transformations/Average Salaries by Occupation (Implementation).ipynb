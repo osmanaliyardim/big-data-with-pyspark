{
 "cells": [
  {
   "cell_type": "code",
   "execution_count": 1,
   "metadata": {},
   "outputs": [],
   "source": [
    "import findspark\n",
    "findspark.init()"
   ]
  },
  {
   "cell_type": "code",
   "execution_count": 2,
   "metadata": {},
   "outputs": [],
   "source": [
    "from pyspark.sql import SparkSession\n",
    "from pyspark.conf import SparkConf"
   ]
  },
  {
   "cell_type": "code",
   "execution_count": 3,
   "metadata": {},
   "outputs": [],
   "source": [
    "pyspark = SparkSession.builder \\\n",
    ".master('local[4]') \\\n",
    ".appName('AveSalariesbyOcc') \\\n",
    ".config('spark.executor.memory', '4g') \\\n",
    ".config('spark.driver.memory', '2g') \\\n",
    ".getOrCreate()"
   ]
  },
  {
   "cell_type": "code",
   "execution_count": 4,
   "metadata": {},
   "outputs": [],
   "source": [
    "sc = pyspark.sparkContext"
   ]
  },
  {
   "cell_type": "code",
   "execution_count": 6,
   "metadata": {},
   "outputs": [],
   "source": [
    "data2 = sc.textFile('simple_data.csv')"
   ]
  },
  {
   "cell_type": "code",
   "execution_count": 7,
   "metadata": {},
   "outputs": [
    {
     "data": {
      "text/plain": [
       "['sirano,isim,yas,meslek,sehir,aylik_gelir',\n",
       " '1,Cemal,35,Isci,Ankara,3500',\n",
       " '2,Ceyda,42,Memur,Kayseri,4200']"
      ]
     },
     "execution_count": 7,
     "metadata": {},
     "output_type": "execute_result"
    }
   ],
   "source": [
    "data2.take(3)"
   ]
  },
  {
   "cell_type": "code",
   "execution_count": 8,
   "metadata": {},
   "outputs": [],
   "source": [
    "data = data2.filter(lambda x: 'sirano' not in x)"
   ]
  },
  {
   "cell_type": "code",
   "execution_count": 9,
   "metadata": {},
   "outputs": [
    {
     "data": {
      "text/plain": [
       "['1,Cemal,35,Isci,Ankara,3500',\n",
       " '2,Ceyda,42,Memur,Kayseri,4200',\n",
       " '3,Timur,30,M�zisyen,Istanbul,9000']"
      ]
     },
     "execution_count": 9,
     "metadata": {},
     "output_type": "execute_result"
    }
   ],
   "source": [
    "data.take(3)"
   ]
  },
  {
   "cell_type": "code",
   "execution_count": 11,
   "metadata": {},
   "outputs": [],
   "source": [
    "def occupation_salary(line):\n",
    "    occupation = line.split(',')[3]\n",
    "    salary = float(line.split(',')[5])\n",
    "    \n",
    "    return (occupation, salary)"
   ]
  },
  {
   "cell_type": "code",
   "execution_count": 13,
   "metadata": {},
   "outputs": [
    {
     "data": {
      "text/plain": [
       "[('Isci', 3500.0),\n",
       " ('Memur', 4200.0),\n",
       " ('M�zisyen', 9000.0),\n",
       " ('Pazarlamaci', 4200.0),\n",
       " ('Pazarlamaci', 4800.0),\n",
       " ('Memur', 4250.0),\n",
       " ('Pazarlamaci', 7300.0),\n",
       " ('M�zisyen', 12000.0),\n",
       " ('Doktor', 18000.0),\n",
       " ('Berber', 12000.0)]"
      ]
     },
     "execution_count": 13,
     "metadata": {},
     "output_type": "execute_result"
    }
   ],
   "source": [
    "occ_sal_pairRDD = data.map(occupation_salary)\n",
    "occ_sal_pairRDD.take(10)"
   ]
  },
  {
   "cell_type": "code",
   "execution_count": 15,
   "metadata": {},
   "outputs": [
    {
     "data": {
      "text/plain": [
       "[('Isci', (3500.0, 1)),\n",
       " ('Memur', (4200.0, 1)),\n",
       " ('M�zisyen', (9000.0, 1)),\n",
       " ('Pazarlamaci', (4200.0, 1)),\n",
       " ('Pazarlamaci', (4800.0, 1)),\n",
       " ('Memur', (4250.0, 1)),\n",
       " ('Pazarlamaci', (7300.0, 1)),\n",
       " ('M�zisyen', (12000.0, 1)),\n",
       " ('Doktor', (18000.0, 1)),\n",
       " ('Berber', (12000.0, 1))]"
      ]
     },
     "execution_count": 15,
     "metadata": {},
     "output_type": "execute_result"
    }
   ],
   "source": [
    "occupation_salary = occ_sal_pairRDD.mapValues(lambda x: (x,1))\n",
    "occupation_salary.take(10)"
   ]
  },
  {
   "cell_type": "code",
   "execution_count": 16,
   "metadata": {},
   "outputs": [
    {
     "data": {
      "text/plain": [
       "[('Memur', (12200.0, 3)),\n",
       " ('Pazarlamaci', (16300.0, 3)),\n",
       " ('Tuhafiyeci', (4800.0, 1)),\n",
       " ('Isci', (3500.0, 1)),\n",
       " ('M�zisyen', (29700.0, 3)),\n",
       " ('Doktor', (32250.0, 2)),\n",
       " ('Berber', (12000.0, 1)),\n",
       " ('Tornac�', (4200.0, 1))]"
      ]
     },
     "execution_count": 16,
     "metadata": {},
     "output_type": "execute_result"
    }
   ],
   "source": [
    "occupation_salary_RBK = occupation_salary.reduceByKey(lambda x,y: (x[0]+y[0], x[1]+y[1]))\n",
    "occupation_salary_RBK.take(10)"
   ]
  },
  {
   "cell_type": "code",
   "execution_count": 17,
   "metadata": {},
   "outputs": [
    {
     "data": {
      "text/plain": [
       "[('Memur', 4066.6666666666665),\n",
       " ('Pazarlamaci', 5433.333333333333),\n",
       " ('Tuhafiyeci', 4800.0),\n",
       " ('Isci', 3500.0),\n",
       " ('M�zisyen', 9900.0),\n",
       " ('Doktor', 16125.0),\n",
       " ('Berber', 12000.0),\n",
       " ('Tornac�', 4200.0)]"
      ]
     },
     "execution_count": 17,
     "metadata": {},
     "output_type": "execute_result"
    }
   ],
   "source": [
    "occupation_average_salary = occupation_salary_RBK.mapValues(lambda x: x[0]/x[1])\n",
    "occupation_average_salary.take(10)"
   ]
  }
 ],
 "metadata": {
  "kernelspec": {
   "display_name": "Python 3",
   "language": "python",
   "name": "python3"
  },
  "language_info": {
   "codemirror_mode": {
    "name": "ipython",
    "version": 3
   },
   "file_extension": ".py",
   "mimetype": "text/x-python",
   "name": "python",
   "nbconvert_exporter": "python",
   "pygments_lexer": "ipython3",
   "version": "3.6.8"
  }
 },
 "nbformat": 4,
 "nbformat_minor": 2
}
