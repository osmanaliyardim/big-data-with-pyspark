{
 "cells": [
  {
   "cell_type": "code",
   "execution_count": 2,
   "metadata": {},
   "outputs": [],
   "source": [
    "import findspark\n",
    "findspark.init()"
   ]
  },
  {
   "cell_type": "code",
   "execution_count": 3,
   "metadata": {},
   "outputs": [],
   "source": [
    "from pyspark import SparkContext"
   ]
  },
  {
   "cell_type": "code",
   "execution_count": 4,
   "metadata": {},
   "outputs": [],
   "source": [
    "sc = SparkContext('local[4]', 'mapAndflatmap')"
   ]
  },
  {
   "cell_type": "code",
   "execution_count": 5,
   "metadata": {},
   "outputs": [],
   "source": [
    "workersRDD = sc.textFile('simple_dirty_data.csv')"
   ]
  },
  {
   "cell_type": "code",
   "execution_count": 8,
   "metadata": {},
   "outputs": [
    {
     "data": {
      "text/plain": [
       "['1,Cemal,35,E,Isci,Ankara,3500,araba',\n",
       " '2,ceyda ,42,K,Memur,Kayseri,4200,araba|ev',\n",
       " '3,Timur,30,,M�z�syen,Istanbul   ,9000,araba|ev|yazl�k',\n",
       " '4,Burcu ,29,K,Pazarlamac�,    Ankara,4200,araba',\n",
       " '5,Yasemin,23,K,Pazarlamaci,Bursa,4800,araba']"
      ]
     },
     "execution_count": 8,
     "metadata": {},
     "output_type": "execute_result"
    }
   ],
   "source": [
    "workersRDD2 = workersRDD.filter(lambda x: 'sirano' not in x) #sirano => queue number\n",
    "workersRDD2.take(5)"
   ]
  },
  {
   "cell_type": "code",
   "execution_count": 9,
   "metadata": {},
   "outputs": [
    {
     "data": {
      "text/plain": [
       "['1,CEMAL,35,E,ISCI,ANKARA,3500,ARABA',\n",
       " '2,CEYDA ,42,K,MEMUR,KAYSERI,4200,ARABA|EV',\n",
       " '3,TIMUR,30,,M�Z�SYEN,ISTANBUL   ,9000,ARABA|EV|YAZL�K',\n",
       " '4,BURCU ,29,K,PAZARLAMAC�,    ANKARA,4200,ARABA',\n",
       " '5,YASEMIN,23,K,PAZARLAMACI,BURSA,4800,ARABA']"
      ]
     },
     "execution_count": 9,
     "metadata": {},
     "output_type": "execute_result"
    }
   ],
   "source": [
    "workersRDD2.map(lambda x: x.upper()).take(5)"
   ]
  },
  {
   "cell_type": "code",
   "execution_count": 10,
   "metadata": {},
   "outputs": [
    {
     "data": {
      "text/plain": [
       "['1', ',', 'C', 'E', 'M', 'A', 'L', ',', '3', '5', ',', 'E', ',', 'I', 'S']"
      ]
     },
     "execution_count": 10,
     "metadata": {},
     "output_type": "execute_result"
    }
   ],
   "source": [
    "workersRDD2.flatMap(lambda x: x.upper()).take(15) #letter by letter"
   ]
  },
  {
   "cell_type": "code",
   "execution_count": 12,
   "metadata": {},
   "outputs": [
    {
     "data": {
      "text/plain": [
       "['1',\n",
       " 'CEMAL',\n",
       " '35',\n",
       " 'E',\n",
       " 'ISCI',\n",
       " 'ANKARA',\n",
       " '3500',\n",
       " 'ARABA',\n",
       " '2',\n",
       " 'CEYDA ',\n",
       " '42',\n",
       " 'K',\n",
       " 'MEMUR',\n",
       " 'KAYSERI',\n",
       " '4200']"
      ]
     },
     "execution_count": 12,
     "metadata": {},
     "output_type": "execute_result"
    }
   ],
   "source": [
    "workersRDD2.flatMap(lambda x: x.split(',')).map(lambda x: x.upper()).take(15) # word by word"
   ]
  },
  {
   "cell_type": "code",
   "execution_count": 13,
   "metadata": {},
   "outputs": [
    {
     "data": {
      "text/plain": [
       "['1,CEMAL,35,E,ISCI,ANKARA,3500,ARABA',\n",
       " '2,CEYDA',\n",
       " ',42,K,MEMUR,KAYSERI,4200,ARABA|EV',\n",
       " '3,TIMUR,30,,M�Z�SYEN,ISTANBUL',\n",
       " '',\n",
       " '',\n",
       " ',9000,ARABA|EV|YAZL�K',\n",
       " '4,BURCU',\n",
       " ',29,K,PAZARLAMAC�,',\n",
       " '',\n",
       " '',\n",
       " '',\n",
       " 'ANKARA,4200,ARABA',\n",
       " '5,YASEMIN,23,K,PAZARLAMACI,BURSA,4800,ARABA',\n",
       " '6,']"
      ]
     },
     "execution_count": 13,
     "metadata": {},
     "output_type": "execute_result"
    }
   ],
   "source": [
    "workersRDD2.flatMap(lambda x: x.split(' ')).map(lambda x: x.upper()).take(15) # sentence by sentence"
   ]
  }
 ],
 "metadata": {
  "kernelspec": {
   "display_name": "Python 3",
   "language": "python",
   "name": "python3"
  },
  "language_info": {
   "codemirror_mode": {
    "name": "ipython",
    "version": 3
   },
   "file_extension": ".py",
   "mimetype": "text/x-python",
   "name": "python",
   "nbconvert_exporter": "python",
   "pygments_lexer": "ipython3",
   "version": "3.6.8"
  }
 },
 "nbformat": 4,
 "nbformat_minor": 2
}
